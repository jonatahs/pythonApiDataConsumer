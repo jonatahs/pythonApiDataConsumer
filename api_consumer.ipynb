{
 "cells": [
  {
   "cell_type": "code",
   "execution_count": 0,
   "metadata": {
    "application/vnd.databricks.v1+cell": {
     "cellMetadata": {
      "byteLimit": 2048000,
      "rowLimit": 10000
     },
     "inputWidgets": {},
     "nuid": "1c4a4fe3-6cbc-45d5-9d15-026fdf71a5f7",
     "showTitle": false,
     "title": ""
    }
   },
   "outputs": [],
   "source": [
    "%run ./api_key"
   ]
  },
  {
   "cell_type": "code",
   "execution_count": 0,
   "metadata": {
    "application/vnd.databricks.v1+cell": {
     "cellMetadata": {
      "byteLimit": 2048000,
      "rowLimit": 10000
     },
     "inputWidgets": {},
     "nuid": "46cae7db-fa4d-4f51-9b30-7813f166a9d1",
     "showTitle": false,
     "title": ""
    }
   },
   "outputs": [
    {
     "output_type": "display_data",
     "data": {
      "application/vnd.databricks.v1+bamboolib_hint": "{\"pd.DataFrames\": [], \"version\": \"0.0.1\"}",
      "text/plain": []
     },
     "metadata": {},
     "output_type": "display_data"
    },
    {
     "output_type": "stream",
     "name": "stdout",
     "output_type": "stream",
     "text": [
      "** Coleta de dados iniciada **\n\n** Teste Conexão API **\n\n    Connection Successful : <Response [200]>\n\n** Dados Coletados **\n\n** Data Frame Gerado **\n\n"
     ]
    },
    {
     "output_type": "display_data",
     "data": {
      "text/html": [
       "<style scoped>\n",
       "  .table-result-container {\n",
       "    max-height: 300px;\n",
       "    overflow: auto;\n",
       "  }\n",
       "  table, th, td {\n",
       "    border: 1px solid black;\n",
       "    border-collapse: collapse;\n",
       "  }\n",
       "  th, td {\n",
       "    padding: 5px;\n",
       "  }\n",
       "  th {\n",
       "    text-align: left;\n",
       "  }\n",
       "</style><div class='table-result-container'><table class='table-result'><thead style='background-color: white'><tr><th>doi</th><th>title</th><th>publisher</th><th>author</th><th>author_url</th><th>affiliation</th><th>publication_year</th></tr></thead><tbody><tr><td>10.1109/BigData55660.2022.10020159</td><td>Novel Patrol Route Optimization Method Based on Big Data Analysis</td><td>IEEE</td><td>Dongyeon Kim</td><td>https://ieeexplore.ieee.org/author/37089670317</td><td>Department of Multimedia Engineering, Dongguk University, Seoul, Korea</td><td>2022</td></tr><tr><td>10.1109/BigData55660.2022.10020159</td><td>Novel Patrol Route Optimization Method Based on Big Data Analysis</td><td>IEEE</td><td>Yejin Kan</td><td>https://ieeexplore.ieee.org/author/37089675447</td><td>Department of Multimedia Engineering, Dongguk University, Seoul, Korea</td><td>2022</td></tr><tr><td>10.1109/BigData55660.2022.10020159</td><td>Novel Patrol Route Optimization Method Based on Big Data Analysis</td><td>IEEE</td><td>Gangman Yi</td><td>https://ieeexplore.ieee.org/author/37086604648</td><td>Department of Multimedia Engineering, Dongguk University, Seoul, Korea</td><td>2022</td></tr><tr><td>10.1109/BigData55660.2022.10020162</td><td>Big Data Exploitation in Cosmology: The Euclid Scientific Archive System</td><td>IEEE</td><td>Sara Nieto Rodriguez</td><td>https://ieeexplore.ieee.org/author/37089703951</td><td>ESAC Science Data Center (ESDC), RHEA for European Space Agency, Madrid, Spain</td><td>2022</td></tr><tr><td>10.1109/BigData55660.2022.10020162</td><td>Big Data Exploitation in Cosmology: The Euclid Scientific Archive System</td><td>IEEE</td><td>Bruno Altieri</td><td>https://ieeexplore.ieee.org/author/37085867182</td><td>ESAC Science Data Center (ESDC), European Space Agency, Madrid, Spain</td><td>2022</td></tr></tbody></table></div>"
      ]
     },
     "metadata": {
      "application/vnd.databricks.v1+output": {
       "addedWidgets": {},
       "aggData": [],
       "aggError": "",
       "aggOverflow": false,
       "aggSchema": [],
       "aggSeriesLimitReached": false,
       "aggType": "",
       "arguments": {},
       "columnCustomDisplayInfos": {},
       "data": [
        [
         "10.1109/BigData55660.2022.10020159",
         "Novel Patrol Route Optimization Method Based on Big Data Analysis",
         "IEEE",
         "Dongyeon Kim",
         "https://ieeexplore.ieee.org/author/37089670317",
         "Department of Multimedia Engineering, Dongguk University, Seoul, Korea",
         2022
        ],
        [
         "10.1109/BigData55660.2022.10020159",
         "Novel Patrol Route Optimization Method Based on Big Data Analysis",
         "IEEE",
         "Yejin Kan",
         "https://ieeexplore.ieee.org/author/37089675447",
         "Department of Multimedia Engineering, Dongguk University, Seoul, Korea",
         2022
        ],
        [
         "10.1109/BigData55660.2022.10020159",
         "Novel Patrol Route Optimization Method Based on Big Data Analysis",
         "IEEE",
         "Gangman Yi",
         "https://ieeexplore.ieee.org/author/37086604648",
         "Department of Multimedia Engineering, Dongguk University, Seoul, Korea",
         2022
        ],
        [
         "10.1109/BigData55660.2022.10020162",
         "Big Data Exploitation in Cosmology: The Euclid Scientific Archive System",
         "IEEE",
         "Sara Nieto Rodriguez",
         "https://ieeexplore.ieee.org/author/37089703951",
         "ESAC Science Data Center (ESDC), RHEA for European Space Agency, Madrid, Spain",
         2022
        ],
        [
         "10.1109/BigData55660.2022.10020162",
         "Big Data Exploitation in Cosmology: The Euclid Scientific Archive System",
         "IEEE",
         "Bruno Altieri",
         "https://ieeexplore.ieee.org/author/37085867182",
         "ESAC Science Data Center (ESDC), European Space Agency, Madrid, Spain",
         2022
        ]
       ],
       "datasetInfos": [],
       "dbfsResultPath": null,
       "isJsonSchema": true,
       "metadata": {},
       "overflow": false,
       "plotOptions": {
        "customPlotOptions": {},
        "displayType": "table",
        "pivotAggregation": null,
        "pivotColumns": null,
        "xColumns": null,
        "yColumns": null
       },
       "removedWidgets": [],
       "schema": [
        {
         "metadata": "{}",
         "name": "doi",
         "type": "\"string\""
        },
        {
         "metadata": "{}",
         "name": "title",
         "type": "\"string\""
        },
        {
         "metadata": "{}",
         "name": "publisher",
         "type": "\"string\""
        },
        {
         "metadata": "{}",
         "name": "author",
         "type": "\"string\""
        },
        {
         "metadata": "{}",
         "name": "author_url",
         "type": "\"string\""
        },
        {
         "metadata": "{}",
         "name": "affiliation",
         "type": "\"string\""
        },
        {
         "metadata": "{}",
         "name": "publication_year",
         "type": "\"long\""
        }
       ],
       "type": "table"
      }
     },
     "output_type": "display_data"
    },
    {
     "output_type": "stream",
     "name": "stdout",
     "output_type": "stream",
     "text": [
      "\n** Iniciando Export de Dados **\n\n** Export Realizado com sucesso **\n"
     ]
    }
   ],
   "source": [
    "import json\n",
    "from urllib import response\n",
    "import requests\n",
    "import pandas as pd\n",
    "\n",
    "class Collect:\n",
    "\n",
    "    url = url_key\n",
    "    lista = []\n",
    "\n",
    "    def __init__(self):\n",
    "        print(\"** Coleta de dados iniciada **\")\n",
    "        print(\"\")\n",
    "\n",
    "    def gera_df(self):\n",
    "\n",
    "        try:\n",
    "            r = requests.get(self.url)\n",
    "            print(\"** Teste Conexão API **\")\n",
    "            print(\"\")\n",
    "            print(f\"    Connection Successful : {r}\")\n",
    "            print(\"\")\n",
    "        except Exception as e:\n",
    "            print(f\"Connection Error: {e}\")\n",
    "\n",
    "        response = r.json()\n",
    "        datas = json.dumps(response['articles'], indent = 4)\n",
    "        datas_json = json.loads(datas)\n",
    "\n",
    "        print(\"** Dados Coletados **\")\n",
    "\n",
    "        for i in datas_json:\n",
    "            try:\n",
    "                doi                 = i['doi']\n",
    "                title               = i['title']\n",
    "                publisher           = i['publisher']\n",
    "                publication_year    = i['publication_year']\n",
    "                autores             = i.get('authors').get('authors')\n",
    "            except:\n",
    "                doi                 = 'null'\n",
    "                title               = 'null'\n",
    "                publisher           = 'null'\n",
    "                publication_year    = 'null'\n",
    "                autores             = 'null'\n",
    "\n",
    "\n",
    "            for author_info in i.get('authors').get('authors'):\n",
    "                \n",
    "                try:\n",
    "                    name            = author_info['full_name']\n",
    "                    author_url      = author_info['authorUrl']\n",
    "                    affiliation     = author_info['affiliation']\n",
    "                except:\n",
    "                    author_url      = 'null'\n",
    "                    name            = 'null'\n",
    "                    affiliation     = 'null'\n",
    "                \n",
    "                dicionario = {\n",
    "                    'doi':doi,\n",
    "                    'title':title,\n",
    "                    'publisher':publisher,\n",
    "                    'author': name,\n",
    "                    'author_url': author_url,\n",
    "                    'affiliation':affiliation,\n",
    "                    'publication_year':publication_year\n",
    "                    }\n",
    "            \n",
    "                self.lista.append(dicionario)\n",
    "\n",
    "        df = pd.DataFrame(self.lista)\n",
    "\n",
    "        print(\"\")\n",
    "        print(\"** Data Frame Gerado **\")\n",
    "        print(\"\")\n",
    "        display(df.head(5))\n",
    "        print(\"\")\n",
    "        print(\"** Iniciando Export de Dados **\")\n",
    "        print(\"\")\n",
    "\n",
    "        return df\n",
    "    \n",
    "    def export_data(self):\n",
    "        \n",
    "        df = Collect().gera_df()\n",
    "\n",
    "        df.to_csv(\"dados.csv\")\n",
    "\n",
    "\n",
    "    def __del__(self):\n",
    "        print(\"** Export Realizado com sucesso **\")\n",
    "\n",
    "\n",
    "if __name__ == \"__main__\":\n",
    "    Collect.export_data(None)"
   ]
  }
 ],
 "metadata": {
  "application/vnd.databricks.v1+notebook": {
   "dashboards": [],
   "language": "python",
   "notebookMetadata": {
    "pythonIndentUnit": 4
   },
   "notebookName": "api_consumer",
   "widgets": {}
  }
 },
 "nbformat": 4,
 "nbformat_minor": 0
}
